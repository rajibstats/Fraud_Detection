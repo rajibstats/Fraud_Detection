{
 "cells": [
  {
   "cell_type": "code",
   "execution_count": 40,
   "metadata": {},
   "outputs": [],
   "source": [
    "# Import general useful packages\n",
    "import numpy as np\n",
    "import pandas as pd\n",
    "\n",
    "# Import matplotlib for visualisations\n",
    "import matplotlib.pyplot as plt\n",
    "import matplotlib.cm as cm\n",
    "import seaborn as sns\n",
    "#import scikitplot as skplt\n",
    "\n",
    "# Import all machine learning algorithms\n",
    "from sklearn.svm import SVC\n",
    "from sklearn.linear_model import LogisticRegression\n",
    "from sklearn.neighbors import KNeighborsClassifier\n",
    "from sklearn.ensemble import RandomForestClassifier\n",
    "from sklearn.ensemble import GradientBoostingClassifier\n",
    "import xgboost as xgb\n",
    "\n",
    "# Import other useful subpackage\n",
    "from sklearn.metrics import confusion_matrix, accuracy_score, classification_report"
   ]
  },
  {
   "cell_type": "code",
   "execution_count": 41,
   "metadata": {},
   "outputs": [],
   "source": [
    "#Loadning data\n",
    "data = pd.read_csv('C:\\\\Users\\\\Purnendu\\\\Desktop\\\\R Code\\\\Python\\\\Fraud Detection\\\\Data.csv')"
   ]
  },
  {
   "cell_type": "code",
   "execution_count": 42,
   "metadata": {},
   "outputs": [
    {
     "data": {
      "text/html": [
       "<div>\n",
       "<style scoped>\n",
       "    .dataframe tbody tr th:only-of-type {\n",
       "        vertical-align: middle;\n",
       "    }\n",
       "\n",
       "    .dataframe tbody tr th {\n",
       "        vertical-align: top;\n",
       "    }\n",
       "\n",
       "    .dataframe thead th {\n",
       "        text-align: right;\n",
       "    }\n",
       "</style>\n",
       "<table border=\"1\" class=\"dataframe\">\n",
       "  <thead>\n",
       "    <tr style=\"text-align: right;\">\n",
       "      <th></th>\n",
       "      <th>f1</th>\n",
       "      <th>f2</th>\n",
       "      <th>f3</th>\n",
       "      <th>f4</th>\n",
       "      <th>f5</th>\n",
       "      <th>f6</th>\n",
       "      <th>f7</th>\n",
       "      <th>f8</th>\n",
       "      <th>f9</th>\n",
       "      <th>f10</th>\n",
       "      <th>...</th>\n",
       "      <th>f62</th>\n",
       "      <th>f63</th>\n",
       "      <th>f64</th>\n",
       "      <th>f65</th>\n",
       "      <th>f66</th>\n",
       "      <th>f67</th>\n",
       "      <th>f68</th>\n",
       "      <th>f69</th>\n",
       "      <th>date_time</th>\n",
       "      <th>class</th>\n",
       "    </tr>\n",
       "  </thead>\n",
       "  <tbody>\n",
       "    <tr>\n",
       "      <th>0</th>\n",
       "      <td>true</td>\n",
       "      <td>False</td>\n",
       "      <td>No</td>\n",
       "      <td>1</td>\n",
       "      <td>False</td>\n",
       "      <td>1</td>\n",
       "      <td>False</td>\n",
       "      <td>1</td>\n",
       "      <td>type_A</td>\n",
       "      <td>False</td>\n",
       "      <td>...</td>\n",
       "      <td>0</td>\n",
       "      <td>0</td>\n",
       "      <td>1</td>\n",
       "      <td>false</td>\n",
       "      <td>False</td>\n",
       "      <td>not_valid</td>\n",
       "      <td>1</td>\n",
       "      <td>160.0</td>\n",
       "      <td>2017-04-18T09:17:44.231</td>\n",
       "      <td>0</td>\n",
       "    </tr>\n",
       "    <tr>\n",
       "      <th>1</th>\n",
       "      <td>true</td>\n",
       "      <td>False</td>\n",
       "      <td>No</td>\n",
       "      <td>1</td>\n",
       "      <td>False</td>\n",
       "      <td>1</td>\n",
       "      <td>False</td>\n",
       "      <td>1</td>\n",
       "      <td>type_A</td>\n",
       "      <td>False</td>\n",
       "      <td>...</td>\n",
       "      <td>0</td>\n",
       "      <td>0</td>\n",
       "      <td>1</td>\n",
       "      <td>false</td>\n",
       "      <td>False</td>\n",
       "      <td>not_valid</td>\n",
       "      <td>1</td>\n",
       "      <td>159.0</td>\n",
       "      <td>2017-04-08T05:56:06.599</td>\n",
       "      <td>0</td>\n",
       "    </tr>\n",
       "    <tr>\n",
       "      <th>2</th>\n",
       "      <td>no_data</td>\n",
       "      <td>False</td>\n",
       "      <td>Yes</td>\n",
       "      <td>1</td>\n",
       "      <td>True</td>\n",
       "      <td>1</td>\n",
       "      <td>False</td>\n",
       "      <td>1</td>\n",
       "      <td>type_A</td>\n",
       "      <td>False</td>\n",
       "      <td>...</td>\n",
       "      <td>0</td>\n",
       "      <td>0</td>\n",
       "      <td>1</td>\n",
       "      <td>false</td>\n",
       "      <td>True</td>\n",
       "      <td>not_valid</td>\n",
       "      <td>1</td>\n",
       "      <td>118.0</td>\n",
       "      <td>2017-05-02T16:28:43.207</td>\n",
       "      <td>0</td>\n",
       "    </tr>\n",
       "    <tr>\n",
       "      <th>3</th>\n",
       "      <td>false</td>\n",
       "      <td>False</td>\n",
       "      <td>Yes</td>\n",
       "      <td>1</td>\n",
       "      <td>True</td>\n",
       "      <td>1</td>\n",
       "      <td>False</td>\n",
       "      <td>1</td>\n",
       "      <td>type_A</td>\n",
       "      <td>False</td>\n",
       "      <td>...</td>\n",
       "      <td>0</td>\n",
       "      <td>0</td>\n",
       "      <td>1</td>\n",
       "      <td>false</td>\n",
       "      <td>False</td>\n",
       "      <td>not_valid</td>\n",
       "      <td>1</td>\n",
       "      <td>155.0</td>\n",
       "      <td>2017-05-17T06:48:45.574</td>\n",
       "      <td>0</td>\n",
       "    </tr>\n",
       "    <tr>\n",
       "      <th>4</th>\n",
       "      <td>true</td>\n",
       "      <td>False</td>\n",
       "      <td>Yes</td>\n",
       "      <td>1</td>\n",
       "      <td>True</td>\n",
       "      <td>1</td>\n",
       "      <td>False</td>\n",
       "      <td>1</td>\n",
       "      <td>type_A</td>\n",
       "      <td>False</td>\n",
       "      <td>...</td>\n",
       "      <td>0</td>\n",
       "      <td>0</td>\n",
       "      <td>1</td>\n",
       "      <td>false</td>\n",
       "      <td>True</td>\n",
       "      <td>not_valid</td>\n",
       "      <td>1</td>\n",
       "      <td>125.0</td>\n",
       "      <td>2017-05-09T18:53:05.890</td>\n",
       "      <td>0</td>\n",
       "    </tr>\n",
       "  </tbody>\n",
       "</table>\n",
       "<p>5 rows × 71 columns</p>\n",
       "</div>"
      ],
      "text/plain": [
       "        f1     f2   f3  f4     f5  f6     f7  f8      f9    f10  ...    f62  \\\n",
       "0     true  False   No   1  False   1  False   1  type_A  False  ...      0   \n",
       "1     true  False   No   1  False   1  False   1  type_A  False  ...      0   \n",
       "2  no_data  False  Yes   1   True   1  False   1  type_A  False  ...      0   \n",
       "3    false  False  Yes   1   True   1  False   1  type_A  False  ...      0   \n",
       "4     true  False  Yes   1   True   1  False   1  type_A  False  ...      0   \n",
       "\n",
       "   f63 f64    f65    f66        f67 f68    f69                date_time  class  \n",
       "0    0   1  false  False  not_valid   1  160.0  2017-04-18T09:17:44.231      0  \n",
       "1    0   1  false  False  not_valid   1  159.0  2017-04-08T05:56:06.599      0  \n",
       "2    0   1  false   True  not_valid   1  118.0  2017-05-02T16:28:43.207      0  \n",
       "3    0   1  false  False  not_valid   1  155.0  2017-05-17T06:48:45.574      0  \n",
       "4    0   1  false   True  not_valid   1  125.0  2017-05-09T18:53:05.890      0  \n",
       "\n",
       "[5 rows x 71 columns]"
      ]
     },
     "execution_count": 42,
     "metadata": {},
     "output_type": "execute_result"
    }
   ],
   "source": [
    "#data structure\n",
    "data.head(5)"
   ]
  },
  {
   "cell_type": "code",
   "execution_count": 74,
   "metadata": {},
   "outputs": [
    {
     "name": "stdout",
     "output_type": "stream",
     "text": [
      "0    4500\n",
      "1     500\n",
      "Name: class, dtype: int64\n"
     ]
    },
    {
     "data": {
      "image/png": "[encoded data removed]",
      "text/plain": [
       "<Figure size 432x288 with 1 Axes>"
      ]
     },
     "metadata": {},
     "output_type": "display_data"
    }
   ],
   "source": [
    "#Distribution of Labels on train data\n",
    "ax = sns.countplot(y=data['class'])\n",
    "xx=data['class'].value_counts()\n",
    "print(xx)\n",
    "ax.set_title('Distribution of Labels on data')\n",
    "plt.show()"
   ]
  },
  {
   "cell_type": "code",
   "execution_count": 44,
   "metadata": {},
   "outputs": [
    {
     "name": "stdout",
     "output_type": "stream",
     "text": [
      "Data: (5000, 71)\n",
      "Null values present in data: False\n"
     ]
    }
   ],
   "source": [
    "# For training data\n",
    "print(\"Data: {}\".format(data.shape))\n",
    "print(\"Null values present in data: {}\".format(data.isnull().values.any()))"
   ]
  },
  {
   "cell_type": "code",
   "execution_count": 45,
   "metadata": {},
   "outputs": [
    {
     "data": {
      "text/html": [
       "<div>\n",
       "<style scoped>\n",
       "    .dataframe tbody tr th:only-of-type {\n",
       "        vertical-align: middle;\n",
       "    }\n",
       "\n",
       "    .dataframe tbody tr th {\n",
       "        vertical-align: top;\n",
       "    }\n",
       "\n",
       "    .dataframe thead th {\n",
       "        text-align: right;\n",
       "    }\n",
       "</style>\n",
       "<table border=\"1\" class=\"dataframe\">\n",
       "  <thead>\n",
       "    <tr style=\"text-align: right;\">\n",
       "      <th></th>\n",
       "      <th>f4</th>\n",
       "      <th>f6</th>\n",
       "      <th>f8</th>\n",
       "      <th>f18</th>\n",
       "      <th>f20</th>\n",
       "      <th>f21</th>\n",
       "      <th>f23</th>\n",
       "      <th>f25</th>\n",
       "      <th>f26</th>\n",
       "      <th>f27</th>\n",
       "      <th>...</th>\n",
       "      <th>f48</th>\n",
       "      <th>f52</th>\n",
       "      <th>f55</th>\n",
       "      <th>f58</th>\n",
       "      <th>f62</th>\n",
       "      <th>f63</th>\n",
       "      <th>f64</th>\n",
       "      <th>f68</th>\n",
       "      <th>f69</th>\n",
       "      <th>class</th>\n",
       "    </tr>\n",
       "  </thead>\n",
       "  <tbody>\n",
       "    <tr>\n",
       "      <th>count</th>\n",
       "      <td>5000.000000</td>\n",
       "      <td>5000.000000</td>\n",
       "      <td>5000.000000</td>\n",
       "      <td>5000.000000</td>\n",
       "      <td>5000.000000</td>\n",
       "      <td>5000.000000</td>\n",
       "      <td>5000.000000</td>\n",
       "      <td>5000.000000</td>\n",
       "      <td>5000.000000</td>\n",
       "      <td>5000.000000</td>\n",
       "      <td>...</td>\n",
       "      <td>5000.000000</td>\n",
       "      <td>5000.000000</td>\n",
       "      <td>5000.000000</td>\n",
       "      <td>5000.000000</td>\n",
       "      <td>5000.000000</td>\n",
       "      <td>5000.000000</td>\n",
       "      <td>5000.000000</td>\n",
       "      <td>5000.000000</td>\n",
       "      <td>5000.000000</td>\n",
       "      <td>5000.00000</td>\n",
       "    </tr>\n",
       "    <tr>\n",
       "      <th>mean</th>\n",
       "      <td>1.243600</td>\n",
       "      <td>1.155400</td>\n",
       "      <td>1.754200</td>\n",
       "      <td>1.074800</td>\n",
       "      <td>1.272000</td>\n",
       "      <td>548.471622</td>\n",
       "      <td>8.411000</td>\n",
       "      <td>1.101400</td>\n",
       "      <td>1.319600</td>\n",
       "      <td>1.249600</td>\n",
       "      <td>...</td>\n",
       "      <td>1296.837268</td>\n",
       "      <td>0.814454</td>\n",
       "      <td>1.058000</td>\n",
       "      <td>943.182078</td>\n",
       "      <td>1.774800</td>\n",
       "      <td>0.009200</td>\n",
       "      <td>0.689600</td>\n",
       "      <td>1.148200</td>\n",
       "      <td>1678.807733</td>\n",
       "      <td>0.10000</td>\n",
       "    </tr>\n",
       "    <tr>\n",
       "      <th>std</th>\n",
       "      <td>1.080228</td>\n",
       "      <td>0.767964</td>\n",
       "      <td>1.925753</td>\n",
       "      <td>0.336493</td>\n",
       "      <td>0.631265</td>\n",
       "      <td>888.582893</td>\n",
       "      <td>21.468457</td>\n",
       "      <td>0.666038</td>\n",
       "      <td>0.912153</td>\n",
       "      <td>4.793819</td>\n",
       "      <td>...</td>\n",
       "      <td>3389.653210</td>\n",
       "      <td>0.299089</td>\n",
       "      <td>5.017138</td>\n",
       "      <td>2683.703254</td>\n",
       "      <td>4.483225</td>\n",
       "      <td>0.101575</td>\n",
       "      <td>1.057864</td>\n",
       "      <td>1.782041</td>\n",
       "      <td>3234.937085</td>\n",
       "      <td>0.30003</td>\n",
       "    </tr>\n",
       "    <tr>\n",
       "      <th>min</th>\n",
       "      <td>1.000000</td>\n",
       "      <td>0.000000</td>\n",
       "      <td>1.000000</td>\n",
       "      <td>1.000000</td>\n",
       "      <td>1.000000</td>\n",
       "      <td>38.000000</td>\n",
       "      <td>0.100000</td>\n",
       "      <td>1.000000</td>\n",
       "      <td>1.000000</td>\n",
       "      <td>1.000000</td>\n",
       "      <td>...</td>\n",
       "      <td>0.000000</td>\n",
       "      <td>0.000000</td>\n",
       "      <td>0.000000</td>\n",
       "      <td>0.000000</td>\n",
       "      <td>0.000000</td>\n",
       "      <td>0.000000</td>\n",
       "      <td>0.000000</td>\n",
       "      <td>0.000000</td>\n",
       "      <td>38.000000</td>\n",
       "      <td>0.00000</td>\n",
       "    </tr>\n",
       "    <tr>\n",
       "      <th>25%</th>\n",
       "      <td>1.000000</td>\n",
       "      <td>1.000000</td>\n",
       "      <td>1.000000</td>\n",
       "      <td>1.000000</td>\n",
       "      <td>1.000000</td>\n",
       "      <td>109.965000</td>\n",
       "      <td>0.160000</td>\n",
       "      <td>1.000000</td>\n",
       "      <td>1.000000</td>\n",
       "      <td>1.000000</td>\n",
       "      <td>...</td>\n",
       "      <td>0.000000</td>\n",
       "      <td>0.570000</td>\n",
       "      <td>0.000000</td>\n",
       "      <td>0.000000</td>\n",
       "      <td>0.000000</td>\n",
       "      <td>0.000000</td>\n",
       "      <td>0.000000</td>\n",
       "      <td>1.000000</td>\n",
       "      <td>145.500000</td>\n",
       "      <td>0.00000</td>\n",
       "    </tr>\n",
       "    <tr>\n",
       "      <th>50%</th>\n",
       "      <td>1.000000</td>\n",
       "      <td>1.000000</td>\n",
       "      <td>1.000000</td>\n",
       "      <td>1.000000</td>\n",
       "      <td>1.000000</td>\n",
       "      <td>184.995000</td>\n",
       "      <td>0.460000</td>\n",
       "      <td>1.000000</td>\n",
       "      <td>1.000000</td>\n",
       "      <td>1.000000</td>\n",
       "      <td>...</td>\n",
       "      <td>55.920000</td>\n",
       "      <td>1.000000</td>\n",
       "      <td>0.000000</td>\n",
       "      <td>0.000000</td>\n",
       "      <td>0.000000</td>\n",
       "      <td>0.000000</td>\n",
       "      <td>1.000000</td>\n",
       "      <td>1.000000</td>\n",
       "      <td>488.200000</td>\n",
       "      <td>0.00000</td>\n",
       "    </tr>\n",
       "    <tr>\n",
       "      <th>75%</th>\n",
       "      <td>1.000000</td>\n",
       "      <td>1.000000</td>\n",
       "      <td>2.000000</td>\n",
       "      <td>1.000000</td>\n",
       "      <td>1.000000</td>\n",
       "      <td>550.000000</td>\n",
       "      <td>2.770000</td>\n",
       "      <td>1.000000</td>\n",
       "      <td>1.000000</td>\n",
       "      <td>1.000000</td>\n",
       "      <td>...</td>\n",
       "      <td>963.805000</td>\n",
       "      <td>1.000000</td>\n",
       "      <td>1.000000</td>\n",
       "      <td>584.867500</td>\n",
       "      <td>2.000000</td>\n",
       "      <td>0.000000</td>\n",
       "      <td>1.000000</td>\n",
       "      <td>1.000000</td>\n",
       "      <td>1682.877500</td>\n",
       "      <td>0.00000</td>\n",
       "    </tr>\n",
       "    <tr>\n",
       "      <th>max</th>\n",
       "      <td>47.000000</td>\n",
       "      <td>36.000000</td>\n",
       "      <td>69.000000</td>\n",
       "      <td>5.000000</td>\n",
       "      <td>12.000000</td>\n",
       "      <td>5550.000000</td>\n",
       "      <td>99.000000</td>\n",
       "      <td>29.000000</td>\n",
       "      <td>19.000000</td>\n",
       "      <td>239.000000</td>\n",
       "      <td>...</td>\n",
       "      <td>50880.880000</td>\n",
       "      <td>1.000000</td>\n",
       "      <td>103.000000</td>\n",
       "      <td>46388.810000</td>\n",
       "      <td>66.000000</td>\n",
       "      <td>2.000000</td>\n",
       "      <td>24.000000</td>\n",
       "      <td>69.000000</td>\n",
       "      <td>48241.310000</td>\n",
       "      <td>1.00000</td>\n",
       "    </tr>\n",
       "  </tbody>\n",
       "</table>\n",
       "<p>8 rows × 22 columns</p>\n",
       "</div>"
      ],
      "text/plain": [
       "                f4           f6           f8          f18          f20  \\\n",
       "count  5000.000000  5000.000000  5000.000000  5000.000000  5000.000000   \n",
       "mean      1.243600     1.155400     1.754200     1.074800     1.272000   \n",
       "std       1.080228     0.767964     1.925753     0.336493     0.631265   \n",
       "min       1.000000     0.000000     1.000000     1.000000     1.000000   \n",
       "25%       1.000000     1.000000     1.000000     1.000000     1.000000   \n",
       "50%       1.000000     1.000000     1.000000     1.000000     1.000000   \n",
       "75%       1.000000     1.000000     2.000000     1.000000     1.000000   \n",
       "max      47.000000    36.000000    69.000000     5.000000    12.000000   \n",
       "\n",
       "               f21          f23          f25          f26          f27  \\\n",
       "count  5000.000000  5000.000000  5000.000000  5000.000000  5000.000000   \n",
       "mean    548.471622     8.411000     1.101400     1.319600     1.249600   \n",
       "std     888.582893    21.468457     0.666038     0.912153     4.793819   \n",
       "min      38.000000     0.100000     1.000000     1.000000     1.000000   \n",
       "25%     109.965000     0.160000     1.000000     1.000000     1.000000   \n",
       "50%     184.995000     0.460000     1.000000     1.000000     1.000000   \n",
       "75%     550.000000     2.770000     1.000000     1.000000     1.000000   \n",
       "max    5550.000000    99.000000    29.000000    19.000000   239.000000   \n",
       "\n",
       "          ...               f48          f52          f55           f58  \\\n",
       "count     ...       5000.000000  5000.000000  5000.000000   5000.000000   \n",
       "mean      ...       1296.837268     0.814454     1.058000    943.182078   \n",
       "std       ...       3389.653210     0.299089     5.017138   2683.703254   \n",
       "min       ...          0.000000     0.000000     0.000000      0.000000   \n",
       "25%       ...          0.000000     0.570000     0.000000      0.000000   \n",
       "50%       ...         55.920000     1.000000     0.000000      0.000000   \n",
       "75%       ...        963.805000     1.000000     1.000000    584.867500   \n",
       "max       ...      50880.880000     1.000000   103.000000  46388.810000   \n",
       "\n",
       "               f62          f63          f64          f68           f69  \\\n",
       "count  5000.000000  5000.000000  5000.000000  5000.000000   5000.000000   \n",
       "mean      1.774800     0.009200     0.689600     1.148200   1678.807733   \n",
       "std       4.483225     0.101575     1.057864     1.782041   3234.937085   \n",
       "min       0.000000     0.000000     0.000000     0.000000     38.000000   \n",
       "25%       0.000000     0.000000     0.000000     1.000000    145.500000   \n",
       "50%       0.000000     0.000000     1.000000     1.000000    488.200000   \n",
       "75%       2.000000     0.000000     1.000000     1.000000   1682.877500   \n",
       "max      66.000000     2.000000    24.000000    69.000000  48241.310000   \n",
       "\n",
       "            class  \n",
       "count  5000.00000  \n",
       "mean      0.10000  \n",
       "std       0.30003  \n",
       "min       0.00000  \n",
       "25%       0.00000  \n",
       "50%       0.00000  \n",
       "75%       0.00000  \n",
       "max       1.00000  \n",
       "\n",
       "[8 rows x 22 columns]"
      ]
     },
     "execution_count": 45,
     "metadata": {},
     "output_type": "execute_result"
    }
   ],
   "source": [
    "# Univariate Analysis\n",
    "data.describe()"
   ]
  },
  {
   "cell_type": "code",
   "execution_count": 47,
   "metadata": {},
   "outputs": [],
   "source": [
    "# Get X and y for training data\n",
    "y = data['class']\n",
    "X = data.drop(columns = ['class','date_time'])"
   ]
  },
  {
   "cell_type": "code",
   "execution_count": 48,
   "metadata": {},
   "outputs": [
    {
     "name": "stdout",
     "output_type": "stream",
     "text": [
      "['f2', 'f5', 'f7', 'f10', 'f11', 'f12', 'f15', 'f16', 'f19', 'f28', 'f29', 'f31', 'f34', 'f35', 'f37', 'f40', 'f42', 'f46', 'f50', 'f51', 'f54', 'f56', 'f60', 'f61', 'f66']\n"
     ]
    }
   ],
   "source": [
    "# Categorical boolean mask\n",
    "bool_feature = X.dtypes==bool # filter categorical columns using mask and turn it into a list\n",
    "#print(categorical_feature)\n",
    "bool_cols = X.columns[bool_feature].tolist()\n",
    "print(bool_cols)"
   ]
  },
  {
   "cell_type": "code",
   "execution_count": 49,
   "metadata": {},
   "outputs": [],
   "source": [
    "X[bool_cols] *= 1"
   ]
  },
  {
   "cell_type": "code",
   "execution_count": 50,
   "metadata": {},
   "outputs": [],
   "source": [
    "X['f13'] = X['f13'].apply(lambda x: np.nan if x==\"no_data\" else x)\n",
    "X['f14'] = X['f14'].apply(lambda x: np.nan if x==\"no_data\" else x)\n",
    "X['f36'] = X['f36'].apply(lambda x: np.nan if x==\"no_data\" else x)\n",
    "\n",
    "X = X.replace(np.nan, 0)\n",
    "X['f13'] = X['f13'].astype('int64')\n",
    "X['f14'] = X['f14'].astype('int64')\n",
    "X['f36'] = X['f36'].astype('int64')"
   ]
  },
  {
   "cell_type": "code",
   "execution_count": 51,
   "metadata": {},
   "outputs": [
    {
     "name": "stdout",
     "output_type": "stream",
     "text": [
      "['f1', 'f3', 'f9', 'f17', 'f22', 'f24', 'f32', 'f33', 'f38', 'f39', 'f41', 'f43', 'f44', 'f45', 'f49', 'f53', 'f57', 'f59', 'f65', 'f67']\n"
     ]
    }
   ],
   "source": [
    "\n",
    "# Categorical boolean mask\n",
    "categorical_feature = X.dtypes==object# filter categorical columns using mask and turn it into a list\n",
    "#print(categorical_feature)\n",
    "categorical_cols = X.columns[categorical_feature].tolist()\n",
    "print(categorical_cols)"
   ]
  },
  {
   "cell_type": "code",
   "execution_count": 52,
   "metadata": {},
   "outputs": [
    {
     "data": {
      "text/html": [
       "<div>\n",
       "<style scoped>\n",
       "    .dataframe tbody tr th:only-of-type {\n",
       "        vertical-align: middle;\n",
       "    }\n",
       "\n",
       "    .dataframe tbody tr th {\n",
       "        vertical-align: top;\n",
       "    }\n",
       "\n",
       "    .dataframe thead th {\n",
       "        text-align: right;\n",
       "    }\n",
       "</style>\n",
       "<table border=\"1\" class=\"dataframe\">\n",
       "  <thead>\n",
       "    <tr style=\"text-align: right;\">\n",
       "      <th></th>\n",
       "      <th>f1</th>\n",
       "      <th>f3</th>\n",
       "      <th>f9</th>\n",
       "      <th>f17</th>\n",
       "      <th>f22</th>\n",
       "      <th>f24</th>\n",
       "      <th>f32</th>\n",
       "      <th>f33</th>\n",
       "      <th>f38</th>\n",
       "      <th>f39</th>\n",
       "      <th>f41</th>\n",
       "      <th>f43</th>\n",
       "      <th>f44</th>\n",
       "      <th>f45</th>\n",
       "      <th>f49</th>\n",
       "      <th>f53</th>\n",
       "      <th>f57</th>\n",
       "      <th>f59</th>\n",
       "      <th>f65</th>\n",
       "      <th>f67</th>\n",
       "    </tr>\n",
       "  </thead>\n",
       "  <tbody>\n",
       "    <tr>\n",
       "      <th>0</th>\n",
       "      <td>2</td>\n",
       "      <td>0</td>\n",
       "      <td>0</td>\n",
       "      <td>0</td>\n",
       "      <td>3</td>\n",
       "      <td>0</td>\n",
       "      <td>0</td>\n",
       "      <td>0</td>\n",
       "      <td>0</td>\n",
       "      <td>3</td>\n",
       "      <td>0</td>\n",
       "      <td>3</td>\n",
       "      <td>0</td>\n",
       "      <td>0</td>\n",
       "      <td>0</td>\n",
       "      <td>1</td>\n",
       "      <td>0</td>\n",
       "      <td>1</td>\n",
       "      <td>0</td>\n",
       "      <td>1</td>\n",
       "    </tr>\n",
       "    <tr>\n",
       "      <th>1</th>\n",
       "      <td>2</td>\n",
       "      <td>0</td>\n",
       "      <td>0</td>\n",
       "      <td>0</td>\n",
       "      <td>2</td>\n",
       "      <td>0</td>\n",
       "      <td>0</td>\n",
       "      <td>0</td>\n",
       "      <td>0</td>\n",
       "      <td>3</td>\n",
       "      <td>0</td>\n",
       "      <td>3</td>\n",
       "      <td>0</td>\n",
       "      <td>0</td>\n",
       "      <td>0</td>\n",
       "      <td>1</td>\n",
       "      <td>0</td>\n",
       "      <td>1</td>\n",
       "      <td>0</td>\n",
       "      <td>1</td>\n",
       "    </tr>\n",
       "    <tr>\n",
       "      <th>2</th>\n",
       "      <td>1</td>\n",
       "      <td>1</td>\n",
       "      <td>0</td>\n",
       "      <td>0</td>\n",
       "      <td>3</td>\n",
       "      <td>0</td>\n",
       "      <td>0</td>\n",
       "      <td>0</td>\n",
       "      <td>0</td>\n",
       "      <td>2</td>\n",
       "      <td>0</td>\n",
       "      <td>0</td>\n",
       "      <td>0</td>\n",
       "      <td>0</td>\n",
       "      <td>0</td>\n",
       "      <td>0</td>\n",
       "      <td>0</td>\n",
       "      <td>1</td>\n",
       "      <td>0</td>\n",
       "      <td>1</td>\n",
       "    </tr>\n",
       "    <tr>\n",
       "      <th>3</th>\n",
       "      <td>0</td>\n",
       "      <td>1</td>\n",
       "      <td>0</td>\n",
       "      <td>0</td>\n",
       "      <td>3</td>\n",
       "      <td>0</td>\n",
       "      <td>0</td>\n",
       "      <td>0</td>\n",
       "      <td>2</td>\n",
       "      <td>2</td>\n",
       "      <td>0</td>\n",
       "      <td>2</td>\n",
       "      <td>0</td>\n",
       "      <td>0</td>\n",
       "      <td>0</td>\n",
       "      <td>0</td>\n",
       "      <td>0</td>\n",
       "      <td>1</td>\n",
       "      <td>0</td>\n",
       "      <td>1</td>\n",
       "    </tr>\n",
       "    <tr>\n",
       "      <th>4</th>\n",
       "      <td>2</td>\n",
       "      <td>1</td>\n",
       "      <td>0</td>\n",
       "      <td>1</td>\n",
       "      <td>3</td>\n",
       "      <td>0</td>\n",
       "      <td>0</td>\n",
       "      <td>0</td>\n",
       "      <td>0</td>\n",
       "      <td>2</td>\n",
       "      <td>0</td>\n",
       "      <td>0</td>\n",
       "      <td>0</td>\n",
       "      <td>0</td>\n",
       "      <td>0</td>\n",
       "      <td>1</td>\n",
       "      <td>0</td>\n",
       "      <td>1</td>\n",
       "      <td>0</td>\n",
       "      <td>1</td>\n",
       "    </tr>\n",
       "  </tbody>\n",
       "</table>\n",
       "</div>"
      ],
      "text/plain": [
       "   f1  f3  f9  f17  f22  f24  f32  f33  f38  f39  f41  f43  f44  f45  f49  \\\n",
       "0   2   0   0    0    3    0    0    0    0    3    0    3    0    0    0   \n",
       "1   2   0   0    0    2    0    0    0    0    3    0    3    0    0    0   \n",
       "2   1   1   0    0    3    0    0    0    0    2    0    0    0    0    0   \n",
       "3   0   1   0    0    3    0    0    0    2    2    0    2    0    0    0   \n",
       "4   2   1   0    1    3    0    0    0    0    2    0    0    0    0    0   \n",
       "\n",
       "   f53  f57  f59  f65  f67  \n",
       "0    1    0    1    0    1  \n",
       "1    1    0    1    0    1  \n",
       "2    0    0    1    0    1  \n",
       "3    0    0    1    0    1  \n",
       "4    1    0    1    0    1  "
      ]
     },
     "execution_count": 52,
     "metadata": {},
     "output_type": "execute_result"
    }
   ],
   "source": [
    "# import labelencoder\n",
    "from sklearn.preprocessing import LabelEncoder# instantiate labelencoder object\n",
    "le = LabelEncoder()\n",
    "# apply le on categorical feature columns\n",
    "X[categorical_cols] = X[categorical_cols].apply(lambda col: \n",
    "                                     le.fit_transform(col))\n",
    "X[categorical_cols].head(5)"
   ]
  },
  {
   "cell_type": "code",
   "execution_count": 53,
   "metadata": {},
   "outputs": [],
   "source": [
    "# Spliting data\n",
    "from sklearn.model_selection import train_test_split\n",
    "X_train, X_test, y_train, y_test = train_test_split(X, y, test_size = 0.2, random_state = 3)"
   ]
  },
  {
   "cell_type": "code",
   "execution_count": 75,
   "metadata": {},
   "outputs": [
    {
     "name": "stdout",
     "output_type": "stream",
     "text": [
      "0    3152\n",
      "1     348\n",
      "Name: class, dtype: int64\n"
     ]
    }
   ],
   "source": [
    "#Distribution of Labels on train data\n",
    "xy=y_train.value_counts()\n",
    "print(xy)\n"
   ]
  },
  {
   "cell_type": "code",
   "execution_count": 91,
   "metadata": {},
   "outputs": [
    {
     "name": "stdout",
     "output_type": "stream",
     "text": [
      "Support Vector Classifier accuracy: 94.73333333333333%\n",
      "Logistic Regression accuracy: 85.53333333333333%\n",
      "K Nearest Neighbors Classifier accuracy: 94.13333333333334%\n",
      "Random Forest Classifier accuracy: 93.73333333333333%\n",
      "Gradient Boosting Classifier accuracy: 94.0%\n",
      "XGBoost Classifier accuracy: 93.26666666666667%\n"
     ]
    },
    {
     "name": "stderr",
     "output_type": "stream",
     "text": [
      "C:\\Users\\Purnendu\\Anaconda3\\lib\\site-packages\\sklearn\\preprocessing\\label.py:151: DeprecationWarning: The truth value of an empty array is ambiguous. Returning False, but in future this will result in an error. Use `array.size > 0` to check that an array is not empty.\n",
      "  if diff:\n"
     ]
    }
   ],
   "source": [
    "# Applying various Classification algorithms without doing variable reductions\n",
    "accuracy_scores = np.zeros(6)\n",
    "\n",
    "# Support Vector Classifier\n",
    "clf = SVC(class_weight = 'balanced').fit(X_train, y_train)\n",
    "prediction1 = clf.predict(X_test)\n",
    "accuracy_scores[0] = accuracy_score(y_test, prediction1)*100\n",
    "print('Support Vector Classifier accuracy: {}%'.format(accuracy_scores[0]))\n",
    "\n",
    "# Logistic Regression\n",
    "clf = LogisticRegression(class_weight = 'balanced').fit(X_train, y_train)\n",
    "prediction2 = clf.predict(X_test)\n",
    "accuracy_scores[1] = accuracy_score(y_test, prediction2)*100\n",
    "print('Logistic Regression accuracy: {}%'.format(accuracy_scores[1]))\n",
    "\n",
    "# K Nearest Neighbors\n",
    "clf = KNeighborsClassifier(                                   ).fit(X_train, y_train)\n",
    "prediction3 = clf.predict(X_test)\n",
    "accuracy_scores[2] = accuracy_score(y_test, prediction3)*100\n",
    "print('K Nearest Neighbors Classifier accuracy: {}%'.format(accuracy_scores[2]))\n",
    "\n",
    "# Random Forest\n",
    "clf = RandomForestClassifier(class_weight = 'balanced').fit(X_train, y_train)\n",
    "prediction4 = clf.predict(X_test)\n",
    "accuracy_scores[3] = accuracy_score(y_test, prediction4)*100\n",
    "print('Random Forest Classifier accuracy: {}%'.format(accuracy_scores[3]))\n",
    "\n",
    "# Gradient Boosting\n",
    "clf = GradientBoostingClassifier().fit(X_train, y_train)\n",
    "prediction5 = clf.predict(X_test)\n",
    "accuracy_scores[4] = accuracy_score(y_test, prediction5)*100\n",
    "print('Gradient Boosting Classifier accuracy: {}%'.format(accuracy_scores[4]))\n",
    "\n",
    "#XGBoosting\n",
    "xgb_model = xgb.XGBClassifier(scale_pos_weight = 9.06)\n",
    "xgb_model.fit(X_train, y_train)\n",
    "prediction6 = xgb_model.predict(X_test)\n",
    "accuracy_scores[5] = accuracy_score(y_test, prediction6)*100\n",
    "print('XGBoost Classifier accuracy: {}%'.format(accuracy_scores[5]))"
   ]
  },
  {
   "cell_type": "code",
   "execution_count": 55,
   "metadata": {},
   "outputs": [
    {
     "data": {
      "text/plain": [
       "Text(0.5,1,'Accuracy of various algorithms')"
      ]
     },
     "execution_count": 55,
     "metadata": {},
     "output_type": "execute_result"
    },
    {
     "data": {
      "image/png": "[encoded data removed]",
      "text/plain": [
       "<Figure size 432x288 with 1 Axes>"
      ]
     },
     "metadata": {},
     "output_type": "display_data"
    }
   ],
   "source": [
    "colors = cm.rainbow(np.linspace(0, 2, 9))\n",
    "labels = ['SVC', 'LR', 'KNN', 'RF', 'GBM', 'XGB']\n",
    "plt.bar(labels,\n",
    "        accuracy_scores,\n",
    "        color = colors)\n",
    "plt.xlabel('Classifiers')\n",
    "plt.ylabel('Accuracy')\n",
    "plt.title('Accuracy of various algorithms')"
   ]
  },
  {
   "cell_type": "code",
   "execution_count": 81,
   "metadata": {},
   "outputs": [
    {
     "name": "stdout",
     "output_type": "stream",
     "text": [
      "[[1339    9]\n",
      " [  56   96]]\n",
      "[[1331   17]\n",
      " [  90   62]]\n",
      "[[1337   11]\n",
      " [  77   75]]\n",
      "[[1335   13]\n",
      " [  76   76]]\n",
      "[[1331   17]\n",
      " [  73   79]]\n",
      "[[1280   68]\n",
      " [  33  119]]\n"
     ]
    }
   ],
   "source": [
    "# Confusion Matrix\n",
    "from sklearn.metrics import confusion_matrix\n",
    "conf1 = confusion_matrix(y_test, prediction1)\n",
    "print(conf1)\n",
    "conf2 = confusion_matrix(y_test, prediction2)\n",
    "print(conf2)\n",
    "conf3 = confusion_matrix(y_test, prediction3)\n",
    "print(conf3)\n",
    "conf4 = confusion_matrix(y_test, prediction4)\n",
    "print(conf4)\n",
    "conf5 = confusion_matrix(y_test, prediction5)\n",
    "print(conf5)\n",
    "conf6 = confusion_matrix(y_test, prediction6)\n",
    "print(conf6)"
   ]
  },
  {
   "cell_type": "code",
   "execution_count": 18,
   "metadata": {},
   "outputs": [
    {
     "ename": "SyntaxError",
     "evalue": "invalid syntax (<ipython-input-18-afb632257412>, line 5)",
     "output_type": "error",
     "traceback": [
      "\u001b[1;36m  File \u001b[1;32m\"<ipython-input-18-afb632257412>\"\u001b[1;36m, line \u001b[1;32m5\u001b[0m\n\u001b[1;33m    plt.show().\u001b[0m\n\u001b[1;37m               ^\u001b[0m\n\u001b[1;31mSyntaxError\u001b[0m\u001b[1;31m:\u001b[0m invalid syntax\n"
     ]
    }
   ],
   "source": [
    "# check validation statistics (Classification Summary)\n",
    "print(classification_report(y_test, prediction6))\n",
    "# Plot confusion Matrix\n",
    "skplt.metrics.plot_confusion_matrix(y_test, prediction6, figsize=(10, 8))\n",
    "plt.show().\n"
   ]
  },
  {
   "cell_type": "code",
   "execution_count": 19,
   "metadata": {},
   "outputs": [
    {
     "ename": "NameError",
     "evalue": "name 'skplt' is not defined",
     "output_type": "error",
     "traceback": [
      "\u001b[1;31m---------------------------------------------------------------------------\u001b[0m",
      "\u001b[1;31mNameError\u001b[0m                                 Traceback (most recent call last)",
      "\u001b[1;32m<ipython-input-19-a4860c850ee9>\u001b[0m in \u001b[0;36m<module>\u001b[1;34m()\u001b[0m\n\u001b[0;32m      1\u001b[0m \u001b[1;31m# ROC Curves\u001b[0m\u001b[1;33m\u001b[0m\u001b[1;33m\u001b[0m\u001b[0m\n\u001b[0;32m      2\u001b[0m \u001b[0my_probas\u001b[0m \u001b[1;33m=\u001b[0m \u001b[0mxgb_model\u001b[0m\u001b[1;33m.\u001b[0m\u001b[0mpredict_proba\u001b[0m\u001b[1;33m(\u001b[0m\u001b[0mX_test\u001b[0m\u001b[1;33m)\u001b[0m\u001b[1;33m\u001b[0m\u001b[0m\n\u001b[1;32m----> 3\u001b[1;33m \u001b[0mskplt\u001b[0m\u001b[1;33m.\u001b[0m\u001b[0mmetrics\u001b[0m\u001b[1;33m.\u001b[0m\u001b[0mplot_roc\u001b[0m\u001b[1;33m(\u001b[0m\u001b[0my_test\u001b[0m\u001b[1;33m,\u001b[0m \u001b[0my_probas\u001b[0m\u001b[1;33m,\u001b[0m \u001b[0mfigsize\u001b[0m\u001b[1;33m=\u001b[0m\u001b[1;33m(\u001b[0m\u001b[1;36m10\u001b[0m\u001b[1;33m,\u001b[0m \u001b[1;36m8\u001b[0m\u001b[1;33m)\u001b[0m\u001b[1;33m)\u001b[0m   \u001b[1;31m# Plot ROC Curve\u001b[0m\u001b[1;33m\u001b[0m\u001b[0m\n\u001b[0m\u001b[0;32m      4\u001b[0m \u001b[0mplt\u001b[0m\u001b[1;33m.\u001b[0m\u001b[0mshow\u001b[0m\u001b[1;33m(\u001b[0m\u001b[1;33m)\u001b[0m\u001b[1;33m\u001b[0m\u001b[0m\n",
      "\u001b[1;31mNameError\u001b[0m: name 'skplt' is not defined"
     ]
    }
   ],
   "source": [
    "# ROC Curves\n",
    "y_probas = xgb_model.predict_proba(X_test)\n",
    "skplt.metrics.plot_roc(y_test, y_probas, figsize=(10, 8))   # Plot ROC Curve\n",
    "plt.show()"
   ]
  },
  {
   "cell_type": "code",
   "execution_count": 56,
   "metadata": {},
   "outputs": [
    {
     "name": "stdout",
     "output_type": "stream",
     "text": [
      "(5000, 37)\n"
     ]
    }
   ],
   "source": [
    "#With Reduction technique - First\n",
    "\n",
    "# Statndard Scaler\n",
    "from sklearn.preprocessing import StandardScaler\n",
    "slc = StandardScaler()\n",
    "train = slc.fit_transform(X)\n",
    "\n",
    "# Dimentionality Reduction\n",
    "from sklearn.decomposition import PCA\n",
    "pca = PCA(n_components = 0.9, random_state = 0)\n",
    "train = pca.fit_transform(train)\n",
    "print(train.shape)"
   ]
  },
  {
   "cell_type": "code",
   "execution_count": 57,
   "metadata": {},
   "outputs": [
    {
     "name": "stdout",
     "output_type": "stream",
     "text": [
      "(5000, 34)\n"
     ]
    }
   ],
   "source": [
    "#With Reduction technique - Second\n",
    "\n",
    "# Statndard Scaler\n",
    "from sklearn.preprocessing import StandardScaler\n",
    "slc = StandardScaler()\n",
    "train1 = slc.fit_transform(train)\n",
    "\n",
    "# Dimentionality Reduction\n",
    "from sklearn.decomposition import PCA\n",
    "pca = PCA(n_components = 0.9, random_state = 0)\n",
    "train1 = pca.fit_transform(train1)\n",
    "print(train1.shape)"
   ]
  },
  {
   "cell_type": "code",
   "execution_count": 58,
   "metadata": {},
   "outputs": [
    {
     "name": "stdout",
     "output_type": "stream",
     "text": [
      "(5000, 31)\n"
     ]
    }
   ],
   "source": [
    "#With Reduction technique - Third\n",
    "\n",
    "# Statndard Scaler\n",
    "from sklearn.preprocessing import StandardScaler\n",
    "slc = StandardScaler()\n",
    "train2 = slc.fit_transform(train1)\n",
    "\n",
    "# Dimentionality Reduction\n",
    "from sklearn.decomposition import PCA\n",
    "pca = PCA(n_components = 0.9, random_state = 0)\n",
    "train2 = pca.fit_transform(train2)\n",
    "print(train2.shape)"
   ]
  },
  {
   "cell_type": "code",
   "execution_count": 59,
   "metadata": {},
   "outputs": [
    {
     "name": "stdout",
     "output_type": "stream",
     "text": [
      "(5000, 28)\n"
     ]
    }
   ],
   "source": [
    "#With Reduction technique - Fourth\n",
    "\n",
    "# Statndard Scaler\n",
    "from sklearn.preprocessing import StandardScaler\n",
    "slc = StandardScaler()\n",
    "train3 = slc.fit_transform(train2)\n",
    "\n",
    "# Dimentionality Reduction\n",
    "from sklearn.decomposition import PCA\n",
    "pca = PCA(n_components = 0.9, random_state = 0)\n",
    "train3 = pca.fit_transform(train3)\n",
    "print(train3.shape)"
   ]
  },
  {
   "cell_type": "code",
   "execution_count": 60,
   "metadata": {},
   "outputs": [
    {
     "name": "stdout",
     "output_type": "stream",
     "text": [
      "(5000, 26)\n"
     ]
    }
   ],
   "source": [
    "#With Reduction technique - Fifth\n",
    "\n",
    "# Statndard Scaler\n",
    "from sklearn.preprocessing import StandardScaler\n",
    "slc = StandardScaler()\n",
    "train4 = slc.fit_transform(train3)\n",
    "\n",
    "# Dimentionality Reduction\n",
    "from sklearn.decomposition import PCA\n",
    "pca = PCA(n_components = 0.9, random_state = 0)\n",
    "train4 = pca.fit_transform(train4)\n",
    "print(train4.shape)"
   ]
  },
  {
   "cell_type": "code",
   "execution_count": 61,
   "metadata": {},
   "outputs": [
    {
     "name": "stdout",
     "output_type": "stream",
     "text": [
      "(5000, 24)\n"
     ]
    }
   ],
   "source": [
    "#With Reduction technique - Sixth\n",
    "\n",
    "# Statndard Scaler\n",
    "from sklearn.preprocessing import StandardScaler\n",
    "slc = StandardScaler()\n",
    "train5 = slc.fit_transform(train4)\n",
    "\n",
    "# Dimentionality Reduction\n",
    "from sklearn.decomposition import PCA\n",
    "pca = PCA(n_components = 0.9, random_state = 0)\n",
    "train5 = pca.fit_transform(train5)\n",
    "print(train5.shape)"
   ]
  },
  {
   "cell_type": "code",
   "execution_count": 62,
   "metadata": {},
   "outputs": [
    {
     "name": "stdout",
     "output_type": "stream",
     "text": [
      "(5000, 22)\n"
     ]
    }
   ],
   "source": [
    "#With Reduction technique - Seventh\n",
    "\n",
    "# Statndard Scaler\n",
    "from sklearn.preprocessing import StandardScaler\n",
    "slc = StandardScaler()\n",
    "train6 = slc.fit_transform(train5)\n",
    "\n",
    "# Dimentionality Reduction\n",
    "from sklearn.decomposition import PCA\n",
    "pca = PCA(n_components = 0.9, random_state = 0)\n",
    "train6 = pca.fit_transform(train6)\n",
    "print(train6.shape)"
   ]
  },
  {
   "cell_type": "code",
   "execution_count": 63,
   "metadata": {},
   "outputs": [
    {
     "name": "stdout",
     "output_type": "stream",
     "text": [
      "(5000, 20)\n"
     ]
    }
   ],
   "source": [
    "#With Reduction technique - Eightth\n",
    "\n",
    "# Statndard Scaler\n",
    "from sklearn.preprocessing import StandardScaler\n",
    "slc = StandardScaler()\n",
    "train7 = slc.fit_transform(train6)\n",
    "\n",
    "# Dimentionality Reduction\n",
    "from sklearn.decomposition import PCA\n",
    "pca = PCA(n_components = 0.9, random_state = 0)\n",
    "train7 = pca.fit_transform(train7)\n",
    "print(train7.shape)"
   ]
  },
  {
   "cell_type": "code",
   "execution_count": 64,
   "metadata": {},
   "outputs": [
    {
     "name": "stdout",
     "output_type": "stream",
     "text": [
      "(5000, 18)\n"
     ]
    }
   ],
   "source": [
    "#With Reduction technique - Nineth\n",
    "\n",
    "# Statndard Scaler\n",
    "from sklearn.preprocessing import StandardScaler\n",
    "slc = StandardScaler()\n",
    "train8 = slc.fit_transform(train7)\n",
    "\n",
    "# Dimentionality Reduction\n",
    "from sklearn.decomposition import PCA\n",
    "pca = PCA(n_components = 0.9, random_state = 0)\n",
    "train8 = pca.fit_transform(train8)\n",
    "print(train8.shape)"
   ]
  },
  {
   "cell_type": "code",
   "execution_count": 65,
   "metadata": {},
   "outputs": [
    {
     "name": "stdout",
     "output_type": "stream",
     "text": [
      "(5000, 17)\n"
     ]
    }
   ],
   "source": [
    "#With Reduction technique - Tenth\n",
    "\n",
    "# Statndard Scaler\n",
    "from sklearn.preprocessing import StandardScaler\n",
    "slc = StandardScaler()\n",
    "train9 = slc.fit_transform(train8)\n",
    "\n",
    "# Dimentionality Reduction\n",
    "from sklearn.decomposition import PCA\n",
    "pca = PCA(n_components = 0.9, random_state = 0)\n",
    "train9 = pca.fit_transform(train9)\n",
    "print(train9.shape)"
   ]
  },
  {
   "cell_type": "code",
   "execution_count": 66,
   "metadata": {},
   "outputs": [
    {
     "name": "stdout",
     "output_type": "stream",
     "text": [
      "(5000, 16)\n"
     ]
    }
   ],
   "source": [
    "#With Reduction technique - Eleventh\n",
    "\n",
    "# Statndard Scaler\n",
    "from sklearn.preprocessing import StandardScaler\n",
    "slc = StandardScaler()\n",
    "train10 = slc.fit_transform(train9)\n",
    "\n",
    "# Dimentionality Reduction\n",
    "from sklearn.decomposition import PCA\n",
    "pca = PCA(n_components = 0.9, random_state = 0)\n",
    "train10 = pca.fit_transform(train10)\n",
    "print(train10.shape)"
   ]
  },
  {
   "cell_type": "code",
   "execution_count": 67,
   "metadata": {},
   "outputs": [],
   "source": [
    "# Spliting Data form above reduction dataset\n",
    "from sklearn.model_selection import train_test_split\n",
    "X_train, X_test, y_train, y_test = train_test_split(train10, y, test_size = 0.3, random_state = 3)"
   ]
  },
  {
   "cell_type": "code",
   "execution_count": 82,
   "metadata": {},
   "outputs": [
    {
     "name": "stdout",
     "output_type": "stream",
     "text": [
      "0    3152\n",
      "1     348\n",
      "Name: class, dtype: int64\n"
     ]
    }
   ],
   "source": [
    "#Distribution of Labels on train data\n",
    "yy=y_train.value_counts()\n",
    "print(yy)"
   ]
  },
  {
   "cell_type": "code",
   "execution_count": 92,
   "metadata": {},
   "outputs": [
    {
     "name": "stdout",
     "output_type": "stream",
     "text": [
      "Support Vector Classifier accuracy: 94.73333333333333%\n",
      "Logistic Regression accuracy: 85.53333333333333%\n",
      "K Nearest Neighbors Classifier accuracy: 94.13333333333334%\n",
      "Random Forest Classifier accuracy: 93.06666666666666%\n",
      "Gradient Boosting Classifier accuracy: 94.0%\n",
      "XGBoost Classifier accuracy: 93.26666666666667%\n"
     ]
    },
    {
     "name": "stderr",
     "output_type": "stream",
     "text": [
      "C:\\Users\\Purnendu\\Anaconda3\\lib\\site-packages\\sklearn\\preprocessing\\label.py:151: DeprecationWarning: The truth value of an empty array is ambiguous. Returning False, but in future this will result in an error. Use `array.size > 0` to check that an array is not empty.\n",
      "  if diff:\n"
     ]
    }
   ],
   "source": [
    "# Applying various Classification algorithms without doing variable reductions\n",
    "accuracy_scores = np.zeros(6)\n",
    "\n",
    "# Support Vector Classifier\n",
    "clf = SVC(class_weight = 'balanced').fit(X_train, y_train)\n",
    "prediction1 = clf.predict(X_test)\n",
    "accuracy_scores[0] = accuracy_score(y_test, prediction1)*100\n",
    "print('Support Vector Classifier accuracy: {}%'.format(accuracy_scores[0]))\n",
    "\n",
    "# Logistic Regression\n",
    "clf = LogisticRegression(class_weight = 'balanced').fit(X_train, y_train)\n",
    "prediction2 = clf.predict(X_test)\n",
    "accuracy_scores[1] = accuracy_score(y_test, prediction2)*100\n",
    "print('Logistic Regression accuracy: {}%'.format(accuracy_scores[1]))\n",
    "\n",
    "# K Nearest Neighbors\n",
    "clf = KNeighborsClassifier().fit(X_train, y_train)\n",
    "prediction3 = clf.predict(X_test)\n",
    "accuracy_scores[2] = accuracy_score(y_test, prediction3)*100\n",
    "print('K Nearest Neighbors Classifier accuracy: {}%'.format(accuracy_scores[2]))\n",
    "\n",
    "# Random Forest\n",
    "clf = RandomForestClassifier(class_weight = 'balanced').fit(X_train, y_train)\n",
    "prediction4 = clf.predict(X_test)\n",
    "accuracy_scores[3] = accuracy_score(y_test, prediction4)*100\n",
    "print('Random Forest Classifier accuracy: {}%'.format(accuracy_scores[3]))\n",
    "\n",
    "# Gradient Boosting\n",
    "clf = GradientBoostingClassifier().fit(X_train, y_train)\n",
    "prediction5 = clf.predict(X_test)\n",
    "accuracy_scores[4] = accuracy_score(y_test, prediction5)*100\n",
    "print('Gradient Boosting Classifier accuracy: {}%'.format(accuracy_scores[4]))\n",
    "\n",
    "#XGBoosting\n",
    "xgb_model = xgb.XGBClassifier(scale_pos_weight = 9.06)\n",
    "xgb_model.fit(X_train, y_train)\n",
    "prediction6 = xgb_model.predict(X_test)\n",
    "accuracy_scores[5] = accuracy_score(y_test, prediction6)*100\n",
    "print('XGBoost Classifier accuracy: {}%'.format(accuracy_scores[5]))"
   ]
  },
  {
   "cell_type": "code",
   "execution_count": 93,
   "metadata": {},
   "outputs": [
    {
     "data": {
      "text/plain": [
       "Text(0.5,1,'Accuracy of various algorithms')"
      ]
     },
     "execution_count": 93,
     "metadata": {},
     "output_type": "execute_result"
    },
    {
     "data": {
      "image/png": "[encoded data removed]",
      "text/plain": [
       "<Figure size 432x288 with 1 Axes>"
      ]
     },
     "metadata": {},
     "output_type": "display_data"
    }
   ],
   "source": [
    "colors = cm.rainbow(np.linspace(0, 2, 9))\n",
    "labels = ['SVC', 'LR', 'KNN', 'RF', 'GBM', 'XGB']\n",
    "plt.bar(labels,\n",
    "        accuracy_scores,\n",
    "        color = colors)\n",
    "plt.xlabel('Classifiers')\n",
    "plt.ylabel('Accuracy')\n",
    "plt.title('Accuracy of various algorithms')"
   ]
  },
  {
   "cell_type": "code",
   "execution_count": 94,
   "metadata": {},
   "outputs": [
    {
     "name": "stdout",
     "output_type": "stream",
     "text": [
      "[[1298   50]\n",
      " [  29  123]]\n",
      "[[1163  185]\n",
      " [  32  120]]\n",
      "[[1337   11]\n",
      " [  77   75]]\n",
      "[[1341    7]\n",
      " [  97   55]]\n",
      "[[1331   17]\n",
      " [  73   79]]\n",
      "[[1280   68]\n",
      " [  33  119]]\n"
     ]
    }
   ],
   "source": [
    "# Confusion Matrix\n",
    "from sklearn.metrics import confusion_matrix\n",
    "conf1 = confusion_matrix(y_test, prediction1)\n",
    "print(conf1)\n",
    "conf2 = confusion_matrix(y_test, prediction2)\n",
    "print(conf2)\n",
    "conf3 = confusion_matrix(y_test, prediction3)\n",
    "print(conf3)\n",
    "conf4 = confusion_matrix(y_test, prediction4)\n",
    "print(conf4)\n",
    "conf5 = confusion_matrix(y_test, prediction5)\n",
    "print(conf5)\n",
    "conf6 = confusion_matrix(y_test, prediction6)\n",
    "print(conf6)"
   ]
  },
  {
   "cell_type": "code",
   "execution_count": null,
   "metadata": {},
   "outputs": [],
   "source": []
  }
 ],
 "metadata": {
  "kernelspec": {
   "display_name": "Python 3",
   "language": "python",
   "name": "python3"
  },
  "language_info": {
   "codemirror_mode": {
    "name": "ipython",
    "version": 3
   },
   "file_extension": ".py",
   "mimetype": "text/x-python",
   "name": "python",
   "nbconvert_exporter": "python",
   "pygments_lexer": "ipython3",
   "version": "3.6.5"
  }
 },
 "nbformat": 4,
 "nbformat_minor": 2
}
